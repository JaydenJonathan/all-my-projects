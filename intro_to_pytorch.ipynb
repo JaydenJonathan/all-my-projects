{
  "nbformat": 4,
  "nbformat_minor": 0,
  "metadata": {
    "colab": {
      "provenance": [],
      "gpuType": "T4",
      "authorship_tag": "ABX9TyMxDCIptCHFurq3v0ds5hSQ",
      "include_colab_link": true
    },
    "kernelspec": {
      "name": "python3",
      "display_name": "Python 3"
    },
    "language_info": {
      "name": "python"
    }
  },
  "cells": [
    {
      "cell_type": "markdown",
      "metadata": {
        "id": "view-in-github",
        "colab_type": "text"
      },
      "source": [
        "<a href=\"https://colab.research.google.com/github/JaydenJonathan/all-my-projects/blob/main/intro_to_pytorch.ipynb\" target=\"_parent\"><img src=\"https://colab.research.google.com/assets/colab-badge.svg\" alt=\"Open In Colab\"/></a>"
      ]
    },
    {
      "cell_type": "markdown",
      "source": [
        "# TENSORS\n",
        "\n",
        "\n",
        "\n",
        "*   A torch. it is a multi dimentional matrix with elements of a single type of data\n",
        "*   default is float32\n",
        "*   more sutiable for deep learning than numpy array\n",
        "\n",
        "\n",
        "\n"
      ],
      "metadata": {
        "id": "mo_ytKi357TE"
      }
    },
    {
      "cell_type": "code",
      "execution_count": 7,
      "metadata": {
        "id": "jSU0EpIi2yxs"
      },
      "outputs": [],
      "source": [
        "import torch\n",
        "import numpy as np"
      ]
    },
    {
      "cell_type": "markdown",
      "source": [
        "# LISTS ⬇"
      ],
      "metadata": {
        "id": "kwRMR9_IBIXr"
      }
    },
    {
      "cell_type": "code",
      "source": [
        "ls1 = [(x ** 2)*2 for x in range(10)]\n",
        "print(f'quadratic formula 2(x^2): {ls1}')"
      ],
      "metadata": {
        "colab": {
          "base_uri": "https://localhost:8080/"
        },
        "id": "_Q7OtWLvBOTf",
        "outputId": "91e3f84c-9e3c-4bd1-b76f-e9ba787b9014"
      },
      "execution_count": 8,
      "outputs": [
        {
          "output_type": "stream",
          "name": "stdout",
          "text": [
            "quadratic formula 2(x^2): [0, 2, 8, 18, 32, 50, 72, 98, 128, 162]\n"
          ]
        }
      ]
    },
    {
      "cell_type": "markdown",
      "source": [
        "# NUMPY ARRAYS ⬇"
      ],
      "metadata": {
        "id": "xxo3OxCfCFCJ"
      }
    },
    {
      "cell_type": "code",
      "source": [
        "ls2 = np.random.rand(3, 4)\n",
        "ls2"
      ],
      "metadata": {
        "colab": {
          "base_uri": "https://localhost:8080/"
        },
        "id": "Xf3aafNYCKQP",
        "outputId": "a175fdbb-76a0-410a-b5de-12d0ce950755"
      },
      "execution_count": 9,
      "outputs": [
        {
          "output_type": "execute_result",
          "data": {
            "text/plain": [
              "array([[0.89789447, 0.04643705, 0.01965301, 0.42758682],\n",
              "       [0.32203648, 0.30444198, 0.20360892, 0.29922055],\n",
              "       [0.96468525, 0.22958764, 0.82660732, 0.28987528]])"
            ]
          },
          "metadata": {},
          "execution_count": 9
        }
      ]
    }
  ]
}