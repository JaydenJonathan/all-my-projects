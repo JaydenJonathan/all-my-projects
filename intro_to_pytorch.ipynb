{
  "nbformat": 4,
  "nbformat_minor": 0,
  "metadata": {
    "colab": {
      "provenance": [],
      "gpuType": "T4",
      "authorship_tag": "ABX9TyPRsNhFUH3flxXhRXxOgFFG",
      "include_colab_link": true
    },
    "kernelspec": {
      "name": "python3",
      "display_name": "Python 3"
    },
    "language_info": {
      "name": "python"
    }
  },
  "cells": [
    {
      "cell_type": "markdown",
      "metadata": {
        "id": "view-in-github",
        "colab_type": "text"
      },
      "source": [
        "<a href=\"https://colab.research.google.com/github/JaydenJonathan/all-my-projects/blob/main/intro_to_pytorch.ipynb\" target=\"_parent\"><img src=\"https://colab.research.google.com/assets/colab-badge.svg\" alt=\"Open In Colab\"/></a>"
      ]
    },
    {
      "cell_type": "markdown",
      "source": [
        "# TENSORS\n",
        "\n",
        "\n",
        "\n",
        "*   A torch. it is a multi dimentional matrix with elements of a single type of data\n",
        "*   default is float32\n",
        "*   more sutiable for deep learning than numpy array\n",
        "\n",
        "\n",
        "\n"
      ],
      "metadata": {
        "id": "mo_ytKi357TE"
      }
    },
    {
      "cell_type": "code",
      "execution_count": null,
      "metadata": {
        "id": "jSU0EpIi2yxs"
      },
      "outputs": [],
      "source": [
        "import torch\n",
        "import numpy as np"
      ]
    },
    {
      "cell_type": "markdown",
      "source": [
        "# LISTS ⬇"
      ],
      "metadata": {
        "id": "kwRMR9_IBIXr"
      }
    },
    {
      "cell_type": "code",
      "source": [
        "ls1 = [(x ** 2)*2 for x in range(10)]\n",
        "print(ls1)"
      ],
      "metadata": {
        "colab": {
          "base_uri": "https://localhost:8080/"
        },
        "id": "_Q7OtWLvBOTf",
        "outputId": "7b286671-3de5-4270-98a9-9684df0d07cf"
      },
      "execution_count": 1,
      "outputs": [
        {
          "output_type": "stream",
          "name": "stdout",
          "text": [
            "[0, 2, 8, 18, 32, 50, 72, 98, 128, 162]\n"
          ]
        }
      ]
    }
  ]
}