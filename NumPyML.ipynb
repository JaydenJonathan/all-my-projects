{
  "nbformat": 4,
  "nbformat_minor": 0,
  "metadata": {
    "colab": {
      "provenance": [],
      "authorship_tag": "ABX9TyOA/9rbR9BpVZk6ZmTdRnXN",
      "include_colab_link": true
    },
    "kernelspec": {
      "name": "python3",
      "display_name": "Python 3"
    },
    "language_info": {
      "name": "python"
    }
  },
  "cells": [
    {
      "cell_type": "markdown",
      "metadata": {
        "id": "view-in-github",
        "colab_type": "text"
      },
      "source": [
        "<a href=\"https://colab.research.google.com/github/JaydenJonathan/all-my-projects/blob/main/NumPyML.ipynb\" target=\"_parent\"><img src=\"https://colab.research.google.com/assets/colab-badge.svg\" alt=\"Open In Colab\"/></a>"
      ]
    },
    {
      "cell_type": "markdown",
      "source": [
        "# Testing for a bit :P"
      ],
      "metadata": {
        "id": "DNLFDqrd_BiX"
      }
    },
    {
      "cell_type": "code",
      "execution_count": 7,
      "metadata": {
        "colab": {
          "base_uri": "https://localhost:8080/"
        },
        "id": "UfsvZIUG-Get",
        "outputId": "06109dcb-bc40-4065-99d4-22d63638c58f"
      },
      "outputs": [
        {
          "output_type": "stream",
          "name": "stdout",
          "text": [
            "quadratic formual of y = x^2: [   0    1    4    9   16   25   36   49   64   81  100  121  144  169\n",
            "  196  225  256  289  324  361  400  441  484  529  576  625  676  729\n",
            "  784  841  900  961 1024 1089 1156 1225 1296 1369 1444 1521 1600 1681\n",
            " 1764 1849 1936 2025 2116 2209 2304 2401 2500 2601 2704 2809 2916 3025\n",
            " 3136 3249 3364 3481 3600 3721 3844 3969 4096 4225 4356 4489 4624 4761\n",
            " 4900 5041 5184 5329 5476 5625 5776 5929 6084 6241 6400 6561 6724 6889\n",
            " 7056 7225 7396 7569 7744 7921 8100 8281 8464 8649 8836 9025 9216 9409\n",
            " 9604 9801]\n",
            "shape: (100,)\n"
          ]
        }
      ],
      "source": [
        "import numpy as np\n",
        "\n",
        "np1 = np.array([i**2 for i in range(100)])\n",
        "print(f'quadratic formual of y = x^2: {np1}')\n",
        "print(f'shape: {np1.shape}')\n"
      ]
    }
  ]
}